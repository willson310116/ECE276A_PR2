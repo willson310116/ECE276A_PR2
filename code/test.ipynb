{
 "cells": [
  {
   "cell_type": "code",
   "execution_count": 1,
   "metadata": {},
   "outputs": [],
   "source": [
    "%matplotlib notebook\n",
    "%matplotlib inline\n",
    "%reload_ext autoreload\n",
    "%autoreload 2\n",
    "import numpy as np\n",
    "import matplotlib.pyplot as plt\n",
    "import IPython\n",
    "import os\n",
    "\n",
    "from load_data import *\n",
    "from transformation import *\n",
    "import cv2\n",
    "from pr2_utils import *\n",
    "from map_utils import *\n",
    "from motion_utils import *\n",
    "from particle import *"
   ]
  },
  {
   "cell_type": "code",
   "execution_count": 8,
   "metadata": {},
   "outputs": [],
   "source": [
    "dataset = 20\n",
    "with np.load(\"../data/Kinect%d.npz\"%dataset) as data:\n",
    "    disp_stamps = data[\"disparity_time_stamps\"] # acquisition times of the disparity images, (2407,)\n",
    "    rgb_stamps = data[\"rgb_time_stamps\"] # acquisition times of the rgb images, (2289,)"
   ]
  },
  {
   "cell_type": "code",
   "execution_count": 10,
   "metadata": {},
   "outputs": [
    {
     "data": {
      "text/plain": [
       "array([1.29844528e+09, 1.29844528e+09, 1.29844528e+09, ...,\n",
       "       1.29844540e+09, 1.29844540e+09, 1.29844540e+09])"
      ]
     },
     "execution_count": 10,
     "metadata": {},
     "output_type": "execute_result"
    }
   ],
   "source": [
    "\n"
   ]
  },
  {
   "cell_type": "code",
   "execution_count": 11,
   "metadata": {},
   "outputs": [
    {
     "data": {
      "text/plain": [
       "array([1.29844528e+09, 1.29844528e+09, 1.29844528e+09, ...,\n",
       "       1.29844540e+09, 1.29844540e+09, 1.29844540e+09])"
      ]
     },
     "execution_count": 11,
     "metadata": {},
     "output_type": "execute_result"
    }
   ],
   "source": [
    "rgb_stamps"
   ]
  },
  {
   "cell_type": "code",
   "execution_count": 17,
   "metadata": {},
   "outputs": [],
   "source": [
    "import glob\n",
    "root = f\"../data/dataRGBD/Disparity{dataset}/\"\n",
    "fnames = sorted(glob.glob(os.path.join(root, '*')))"
   ]
  },
  {
   "cell_type": "code",
   "execution_count": null,
   "metadata": {},
   "outputs": [],
   "source": [
    "fnames"
   ]
  },
  {
   "cell_type": "code",
   "execution_count": null,
   "metadata": {},
   "outputs": [],
   "source": [
    "import numpy as np\n",
    "import matplotlib.pyplot as plt\n",
    "import cv2\n",
    "\n",
    "disp_path = \"../data/dataRGBD/Disparity20/\"\n",
    "rgb_path = \"../data/dataRGBD/RGB20/\"\n",
    "\n",
    "def normalize(img):\n",
    "   max_ = img.max()\n",
    "   min_ = img.min()\n",
    "   return (img - min_)/(max_-min_)\n",
    "\n",
    "\n",
    "# load RGBD image\n",
    "imd = cv2.imread(disp_path+'disparity20_1.png',cv2.IMREAD_UNCHANGED) # (480 x 640)\n",
    "imc = cv2.imread(rgb_path+'rgb20_1.png')[...,::-1] # (480 x 640 x 3)\n",
    "\n",
    "print(imd.shape)\n",
    "print(imc.shape)\n",
    "\n",
    "# convert from disparity from uint16 to double\n",
    "disparity = imd.astype(np.float32)\n",
    "\n",
    "# get depth\n",
    "dd = (-0.00304 * disparity + 3.31)\n",
    "z = 1.03 / dd\n",
    "\n",
    "# calculate u and v coordinates \n",
    "v,u = np.mgrid[0:disparity.shape[0],0:disparity.shape[1]]\n",
    "#u,v = np.meshgrid(np.arange(disparity.shape[1]),np.arange(disparity.shape[0]))\n",
    "\n",
    "# get 3D coordinates \n",
    "fx = 585.05108211\n",
    "fy = 585.05108211\n",
    "cx = 315.83800193\n",
    "cy = 242.94140713\n",
    "x = (u-cx) / fx * z\n",
    "y = (v-cy) / fy * z\n",
    "\n",
    "# calculate the location of each pixel in the RGB image\n",
    "rgbu = np.round((u * 526.37 + dd*(-4.5*1750.46) + 19276.0)/fx)\n",
    "rgbv = np.round((v * 526.37 + 16662.0)/fy)\n",
    "valid = (rgbu>= 0)&(rgbu < disparity.shape[1])&(rgbv>=0)&(rgbv<disparity.shape[0])\n",
    "\n",
    "# display valid RGB pixels\n",
    "fig = plt.figure(figsize=(10, 13.3))\n",
    "# ax = fig.add_subplot(projection='3d')\n",
    "ax = fig.add_subplot(projection='3d')\n",
    "ax.scatter(z[valid],-x[valid],-y[valid],c=imc[rgbv[valid].astype(int),rgbu[valid].astype(int)]/255.0)\n",
    "ax.set_xlabel('X')\n",
    "ax.set_ylabel('Y')\n",
    "ax.set_zlabel('Z')\n",
    "ax.view_init(elev=0, azim=180)\n",
    "plt.show()\n",
    "\n",
    "# display disparity image\n",
    "plt.imshow(normalize(imd), cmap='gray')\n",
    "plt.show()"
   ]
  },
  {
   "cell_type": "code",
   "execution_count": 38,
   "metadata": {},
   "outputs": [
    {
     "data": {
      "text/plain": [
       "(303305, 3)"
      ]
     },
     "execution_count": 38,
     "metadata": {},
     "output_type": "execute_result"
    }
   ],
   "source": [
    "c = imc[rgbv[valid].astype(int),rgbu[valid].astype(int)]\n",
    "c.shape"
   ]
  },
  {
   "cell_type": "code",
   "execution_count": 43,
   "metadata": {},
   "outputs": [
    {
     "data": {
      "text/plain": [
       "(480, 640)"
      ]
     },
     "execution_count": 43,
     "metadata": {},
     "output_type": "execute_result"
    }
   ],
   "source": [
    "rgbv.shape"
   ]
  },
  {
   "cell_type": "code",
   "execution_count": 55,
   "metadata": {},
   "outputs": [],
   "source": [
    "import numpy as np\n",
    "import matplotlib.pyplot as plt\n",
    "import cv2\n",
    "\n",
    "dis_fn = 'disparity20_1.png'\n",
    "rgb_fn = 'rgb20_1.png'\n",
    "disp_path = \"../data/dataRGBD/Disparity20/\" + dis_fn\n",
    "rgb_path = \"../data/dataRGBD/RGB20/\" + rgb_fn\n",
    "\n",
    "def normalize(img):\n",
    "   max_ = img.max()\n",
    "   min_ = img.min()\n",
    "   return (img - min_)/(max_-min_)\n",
    "\n",
    "def getRGB(disp_path, rgb_path):\n",
    "   # load RGBD image\n",
    "   imd = cv2.imread(disp_path, cv2.IMREAD_UNCHANGED) # (480 x 640)\n",
    "   imc = cv2.imread(rgb_path)[...,::-1] # (480 x 640 x 3)\n",
    "\n",
    "   # convert from disparity from uint16 to double\n",
    "   disparity = imd.astype(np.float32)\n",
    "\n",
    "   # get depth\n",
    "   dd = (-0.00304 * disparity + 3.31)\n",
    "   z = 1.03 / dd\n",
    "\n",
    "   # calculate u and v coordinates \n",
    "   v,u = np.mgrid[0:disparity.shape[0],0:disparity.shape[1]]\n",
    "   #u,v = np.meshgrid(np.arange(disparity.shape[1]),np.arange(disparity.shape[0]))\n",
    "\n",
    "   # get 3D coordinates \n",
    "   fx = 585.05108211\n",
    "   fy = 585.05108211\n",
    "   cx = 315.83800193\n",
    "   cy = 242.94140713\n",
    "   x = (u-cx) / fx * z\n",
    "   y = (v-cy) / fy * z\n",
    "\n",
    "   # calculate the location of each pixel in the RGB image\n",
    "   rgbu = np.round((u * 526.37 + dd*(-4.5*1750.46) + 19276.0)/fx)\n",
    "   rgbv = np.round((v * 526.37 + 16662.0)/fy)\n",
    "   valid = (rgbu>= 0)&(rgbu < disparity.shape[1])&(rgbv>=0)&(rgbv<disparity.shape[0])\n",
    "\n",
    "   # coordinates, rgb color\n",
    "   return z[valid],x[valid],y[valid], imc[rgbv[valid].astype(int),rgbu[valid].astype(int)]/255.0"
   ]
  },
  {
   "cell_type": "code",
   "execution_count": 99,
   "metadata": {},
   "outputs": [],
   "source": [
    "def getOpital(x,y,z):\n",
    "    a = np.vstack((x,y))\n",
    "    a = np.vstack((a, np.ones(x.shape[0])))\n",
    "    # rgbi, rgbj, 1\n",
    "    b = np.vstack((z,z))\n",
    "    b = np.vstack((b,z))\n",
    "    c = a * b\n",
    "\n",
    "    K = np.array([[585.05, 0, 242.94],\n",
    "              [0, 585.05, 315.84],\n",
    "              [0, 0, 1]])\n",
    "    K_inv = np.linalg.inv(K)\n",
    "    return np.matmul(K_inv, c)"
   ]
  },
  {
   "cell_type": "code",
   "execution_count": 135,
   "metadata": {},
   "outputs": [],
   "source": [
    "def opticalToWorldCoordinate(optical_point, pose):\n",
    "    # create points transformation matrix\n",
    "    T_opt = np.vstack([optical_point, np.ones((optical_point.shape[1]))])\n",
    "\n",
    "        # use transform tree\n",
    "    T = Transform(**pose)\n",
    "\n",
    "        # transform laser points to world frame\n",
    "    optical_point_w = T.chain('wTb', 'bTc', 'cTo') @ T_opt\n",
    "\n",
    "        # get the x-y-z coordinates\n",
    "    optical_point_w = optical_point_w[:3,:].T\n",
    "\n",
    "    return optical_point_w[:,:2]"
   ]
  },
  {
   "cell_type": "code",
   "execution_count": 123,
   "metadata": {},
   "outputs": [],
   "source": [
    "z,x,y,rgb = getRGB(disp_path, rgb_path)\n",
    "opti = getOpital(x,y,z)"
   ]
  },
  {
   "cell_type": "code",
   "execution_count": 136,
   "metadata": {},
   "outputs": [],
   "source": [
    "pose = { 'x': 0.0, 'y': 0.0, 'theta': 0.0 }\n",
    "opti_w = opticalToWorldCoordinate(opti, pose)"
   ]
  },
  {
   "cell_type": "code",
   "execution_count": 137,
   "metadata": {},
   "outputs": [
    {
     "data": {
      "text/plain": [
       "(303305, 2)"
      ]
     },
     "execution_count": 137,
     "metadata": {},
     "output_type": "execute_result"
    }
   ],
   "source": [
    "opti_w.shape"
   ]
  },
  {
   "cell_type": "code",
   "execution_count": 138,
   "metadata": {},
   "outputs": [
    {
     "data": {
      "text/plain": [
       "(303305, 3)"
      ]
     },
     "execution_count": 138,
     "metadata": {},
     "output_type": "execute_result"
    }
   ],
   "source": [
    "rgb.shape"
   ]
  },
  {
   "cell_type": "code",
   "execution_count": 139,
   "metadata": {},
   "outputs": [],
   "source": [
    "# plot map with first laser scan\n",
    "pose = { 'x': 0.0, 'y': 0.0, 'theta': 0.0 }\n",
    "xlim = (-30,30)\n",
    "ylim = (-30,30)\n",
    "Map = OccupancyMap(xlim=xlim, ylim=ylim, res=0.2)"
   ]
  },
  {
   "cell_type": "code",
   "execution_count": 140,
   "metadata": {},
   "outputs": [],
   "source": [
    "Map.update_texture(opti_w, rgb)"
   ]
  },
  {
   "cell_type": "code",
   "execution_count": 145,
   "metadata": {},
   "outputs": [
    {
     "name": "stdout",
     "output_type": "stream",
     "text": [
      "Plot...\n"
     ]
    },
    {
     "data": {
      "image/png": "[encoded data removed]",
      "text/plain": [
       "<Figure size 1200x600 with 1 Axes>"
      ]
     },
     "metadata": {},
     "output_type": "display_data"
    }
   ],
   "source": [
    "Map.plot_texture()"
   ]
  },
  {
   "cell_type": "code",
   "execution_count": null,
   "metadata": {},
   "outputs": [],
   "source": []
  }
 ],
 "metadata": {
  "kernelspec": {
   "display_name": "pj2",
   "language": "python",
   "name": "pj2"
  },
  "language_info": {
   "codemirror_mode": {
    "name": "ipython",
    "version": 3
   },
   "file_extension": ".py",
   "mimetype": "text/x-python",
   "name": "python",
   "nbconvert_exporter": "python",
   "pygments_lexer": "ipython3",
   "version": "3.9.13"
  },
  "orig_nbformat": 4
 },
 "nbformat": 4,
 "nbformat_minor": 2
}
